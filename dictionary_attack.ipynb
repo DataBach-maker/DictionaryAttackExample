{
 "cells": [
  {
   "cell_type": "code",
   "execution_count": 31,
   "metadata": {},
   "outputs": [],
   "source": [
    "import pandas as pd\n",
    "\n",
    "\n",
    "## read csv data into pandas dataframe for analysis\n",
    "df = pd.read_csv(\n",
    "    r\"C:\\Users\\Nutzer\\Desktop\\Projects\\DictionaryAttack\\rockyou.txt\",\n",
    "    delimiter=\"\\n\",\n",
    "    header=None,\n",
    "    names=[\"Passwords\"],\n",
    "    encoding=\"ISO-8859-1\",\n",
    ")"
   ]
  },
  {
   "cell_type": "code",
   "execution_count": 32,
   "metadata": {},
   "outputs": [],
   "source": [
    "## queries \n",
    "\n",
    "# how many passwords in total ?\n",
    "count_passwords = len(df)\n",
    "\n",
    "# how many passwords contain a digit ?\n",
    "count_passwords_with_digits = df[df.Passwords.str.contains('\\d', na=False)].count()\n",
    "\n",
    "# how many passwords do not contain a digit ?\n",
    "count_passwords_without_digits = count_passwords - count_passwords_with_digits\n",
    "\n",
    "# what is the percentage of passwords that contain at least one digit ?\n",
    "ratio_passwort_with_digits = count_passwords_with_digits / count_passwords #format to percantage\n",
    "\n",
    "# how many passwords contain a special character ?\n",
    "count_passwords_with_special_character = df[df.Passwords.str.contains('(?=.*[@$!%*#?&])', na=False)].count()\n",
    "\n",
    "# how many passwords do not contain a special character ?\n",
    "count_passwords_without_special_character = count_passwords - count_passwords_with_special_character\n",
    "\n",
    "# what is the percentage of passwords that contain at least one digit ?\n",
    "ratio_password_with_special_character = count_passwords_with_special_character / count_passwords #format to percantage\n",
    "\n",
    "# out of all the passwords with special characters, how many contain the exclamation ! mark ?\n",
    "count_password_with_exclamation_mark = df[df.Passwords.str.contains('!', na=False)].count()\n",
    "\n",
    "# how many percent of all passwords with a special character contain the exclamation mark ?\n",
    "ratio_passwords_with_exclamation_mark = count_password_with_exclamation_mark / count_passwords_with_special_character\n",
    "\n",
    "# more queries can be added, you get the idea -> Learn what makes a good or bad passwort and write smart rules \n",
    "# to increase the chance of guessing more difficult passwords.\n",
    "\n",
    "## conclusion: 70% of passwords contain a digit, but only .07 % contain a special character. \n",
    "## Idea: apply 2 changes to a guess passwort to increase the chance of match - make attack a bit smarter."
   ]
  },
  {
   "cell_type": "code",
   "execution_count": 33,
   "metadata": {},
   "outputs": [
    {
     "name": "stdout",
     "output_type": "stream",
     "text": [
      "14343476\n",
      "Passwords    116067\n",
      "dtype: int64\n"
     ]
    }
   ],
   "source": [
    "print(count_passwords)\n",
    "print(count_password_with_exclamation_mark)"
   ]
  },
  {
   "cell_type": "code",
   "execution_count": 34,
   "metadata": {},
   "outputs": [
    {
     "name": "stdout",
     "output_type": "stream",
     "text": [
      "Passwords    0.008092\n",
      "dtype: float64\n"
     ]
    }
   ],
   "source": [
    "print(count_password_with_exclamation_mark / count_passwords)"
   ]
  },
  {
   "cell_type": "code",
   "execution_count": null,
   "metadata": {},
   "outputs": [],
   "source": []
  }
 ],
 "metadata": {
  "kernelspec": {
   "display_name": "Python 3 (ipykernel)",
   "language": "python",
   "name": "python3"
  },
  "language_info": {
   "codemirror_mode": {
    "name": "ipython",
    "version": 3
   },
   "file_extension": ".py",
   "mimetype": "text/x-python",
   "name": "python",
   "nbconvert_exporter": "python",
   "pygments_lexer": "ipython3",
   "version": "3.8.12"
  }
 },
 "nbformat": 4,
 "nbformat_minor": 4
}
